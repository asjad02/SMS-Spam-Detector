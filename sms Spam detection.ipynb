{
  "cells": [
    {
      "metadata": {
        "_uuid": "8f2839f25d086af736a60e9eeb907d3b93b6e0e5",
        "_cell_guid": "b1076dfc-b9ad-4769-8c92-a6c4dae69d19",
        "trusted": true
      },
      "cell_type": "code",
      "source": "import numpy as np\nimport pandas as pd",
      "execution_count": 8,
      "outputs": []
    },
    {
      "metadata": {
        "trusted": true,
        "_uuid": "14b1e34d854b603bc74b445bc73bb5ca5466954b"
      },
      "cell_type": "code",
      "source": "data = pd.read_csv(\"../input/spam.csv\", encoding=\"cp437\")\ny = data.iloc[:, 0].values",
      "execution_count": 9,
      "outputs": []
    },
    {
      "metadata": {
        "trusted": true,
        "_uuid": "8a47856bf6e2ee59a15995e0c74fdce6bacf05a2"
      },
      "cell_type": "code",
      "source": "data",
      "execution_count": 10,
      "outputs": [
        {
          "output_type": "execute_result",
          "execution_count": 10,
          "data": {
            "text/plain": "        v1    ...     Unnamed: 4\n0      ham    ...            NaN\n1      ham    ...            NaN\n2     spam    ...            NaN\n3      ham    ...            NaN\n4      ham    ...            NaN\n5     spam    ...            NaN\n6      ham    ...            NaN\n7      ham    ...            NaN\n8     spam    ...            NaN\n9     spam    ...            NaN\n10     ham    ...            NaN\n11    spam    ...            NaN\n12    spam    ...            NaN\n13     ham    ...            NaN\n14     ham    ...            NaN\n15    spam    ...            NaN\n16     ham    ...            NaN\n17     ham    ...            NaN\n18     ham    ...            NaN\n19    spam    ...            NaN\n20     ham    ...            NaN\n21     ham    ...            NaN\n22     ham    ...            NaN\n23     ham    ...            NaN\n24     ham    ...            NaN\n25     ham    ...            NaN\n26     ham    ...            NaN\n27     ham    ...            NaN\n28     ham    ...            NaN\n29     ham    ...            NaN\n...    ...    ...            ...\n5542   ham    ...            NaN\n5543   ham    ...            NaN\n5544   ham    ...            NaN\n5545   ham    ...            NaN\n5546   ham    ...            NaN\n5547  spam    ...            NaN\n5548   ham    ...            NaN\n5549   ham    ...            NaN\n5550   ham    ...            NaN\n5551   ham    ...            NaN\n5552   ham    ...            NaN\n5553   ham    ...            NaN\n5554   ham    ...            NaN\n5555   ham    ...            NaN\n5556   ham    ...            NaN\n5557   ham    ...            NaN\n5558   ham    ...            NaN\n5559   ham    ...            NaN\n5560   ham    ...            NaN\n5561   ham    ...            NaN\n5562   ham    ...            NaN\n5563   ham    ...            NaN\n5564   ham    ...            NaN\n5565   ham    ...            NaN\n5566  spam    ...            NaN\n5567  spam    ...            NaN\n5568   ham    ...            NaN\n5569   ham    ...            NaN\n5570   ham    ...            NaN\n5571   ham    ...            NaN\n\n[5572 rows x 5 columns]",
            "text/html": "<div>\n<style scoped>\n    .dataframe tbody tr th:only-of-type {\n        vertical-align: middle;\n    }\n\n    .dataframe tbody tr th {\n        vertical-align: top;\n    }\n\n    .dataframe thead th {\n        text-align: right;\n    }\n</style>\n<table border=\"1\" class=\"dataframe\">\n  <thead>\n    <tr style=\"text-align: right;\">\n      <th></th>\n      <th>v1</th>\n      <th>v2</th>\n      <th>Unnamed: 2</th>\n      <th>Unnamed: 3</th>\n      <th>Unnamed: 4</th>\n    </tr>\n  </thead>\n  <tbody>\n    <tr>\n      <th>0</th>\n      <td>ham</td>\n      <td>Go until jurong point, crazy.. Available only ...</td>\n      <td>NaN</td>\n      <td>NaN</td>\n      <td>NaN</td>\n    </tr>\n    <tr>\n      <th>1</th>\n      <td>ham</td>\n      <td>Ok lar... Joking wif u oni...</td>\n      <td>NaN</td>\n      <td>NaN</td>\n      <td>NaN</td>\n    </tr>\n    <tr>\n      <th>2</th>\n      <td>spam</td>\n      <td>Free entry in 2 a wkly comp to win FA Cup fina...</td>\n      <td>NaN</td>\n      <td>NaN</td>\n      <td>NaN</td>\n    </tr>\n    <tr>\n      <th>3</th>\n      <td>ham</td>\n      <td>U dun say so early hor... U c already then say...</td>\n      <td>NaN</td>\n      <td>NaN</td>\n      <td>NaN</td>\n    </tr>\n    <tr>\n      <th>4</th>\n      <td>ham</td>\n      <td>Nah I don't think he goes to usf, he lives aro...</td>\n      <td>NaN</td>\n      <td>NaN</td>\n      <td>NaN</td>\n    </tr>\n    <tr>\n      <th>5</th>\n      <td>spam</td>\n      <td>FreeMsg Hey there darling it's been 3 week's n...</td>\n      <td>NaN</td>\n      <td>NaN</td>\n      <td>NaN</td>\n    </tr>\n    <tr>\n      <th>6</th>\n      <td>ham</td>\n      <td>Even my brother is not like to speak with me. ...</td>\n      <td>NaN</td>\n      <td>NaN</td>\n      <td>NaN</td>\n    </tr>\n    <tr>\n      <th>7</th>\n      <td>ham</td>\n      <td>As per your request 'Melle Melle (Oru Minnamin...</td>\n      <td>NaN</td>\n      <td>NaN</td>\n      <td>NaN</td>\n    </tr>\n    <tr>\n      <th>8</th>\n      <td>spam</td>\n      <td>WINNER!! As a valued network customer you have...</td>\n      <td>NaN</td>\n      <td>NaN</td>\n      <td>NaN</td>\n    </tr>\n    <tr>\n      <th>9</th>\n      <td>spam</td>\n      <td>Had your mobile 11 months or more? U R entitle...</td>\n      <td>NaN</td>\n      <td>NaN</td>\n      <td>NaN</td>\n    </tr>\n    <tr>\n      <th>10</th>\n      <td>ham</td>\n      <td>I'm gonna be home soon and i don't want to tal...</td>\n      <td>NaN</td>\n      <td>NaN</td>\n      <td>NaN</td>\n    </tr>\n    <tr>\n      <th>11</th>\n      <td>spam</td>\n      <td>SIX chances to win CASH! From 100 to 20,000 po...</td>\n      <td>NaN</td>\n      <td>NaN</td>\n      <td>NaN</td>\n    </tr>\n    <tr>\n      <th>12</th>\n      <td>spam</td>\n      <td>URGENT! You have won a 1 week FREE membership ...</td>\n      <td>NaN</td>\n      <td>NaN</td>\n      <td>NaN</td>\n    </tr>\n    <tr>\n      <th>13</th>\n      <td>ham</td>\n      <td>I've been searching for the right words to tha...</td>\n      <td>NaN</td>\n      <td>NaN</td>\n      <td>NaN</td>\n    </tr>\n    <tr>\n      <th>14</th>\n      <td>ham</td>\n      <td>I HAVE A DATE ON SUNDAY WITH WILL!!</td>\n      <td>NaN</td>\n      <td>NaN</td>\n      <td>NaN</td>\n    </tr>\n    <tr>\n      <th>15</th>\n      <td>spam</td>\n      <td>XXXMobileMovieClub: To use your credit, click ...</td>\n      <td>NaN</td>\n      <td>NaN</td>\n      <td>NaN</td>\n    </tr>\n    <tr>\n      <th>16</th>\n      <td>ham</td>\n      <td>Oh k...i'm watching here:)</td>\n      <td>NaN</td>\n      <td>NaN</td>\n      <td>NaN</td>\n    </tr>\n    <tr>\n      <th>17</th>\n      <td>ham</td>\n      <td>Eh u remember how 2 spell his name... Yes i di...</td>\n      <td>NaN</td>\n      <td>NaN</td>\n      <td>NaN</td>\n    </tr>\n    <tr>\n      <th>18</th>\n      <td>ham</td>\n      <td>Fine if thatσ╒s the way u feel. Thatσ╒s the wa...</td>\n      <td>NaN</td>\n      <td>NaN</td>\n      <td>NaN</td>\n    </tr>\n    <tr>\n      <th>19</th>\n      <td>spam</td>\n      <td>England v Macedonia - dont miss the goals/team...</td>\n      <td>NaN</td>\n      <td>NaN</td>\n      <td>NaN</td>\n    </tr>\n    <tr>\n      <th>20</th>\n      <td>ham</td>\n      <td>Is that seriously how you spell his name?</td>\n      <td>NaN</td>\n      <td>NaN</td>\n      <td>NaN</td>\n    </tr>\n    <tr>\n      <th>21</th>\n      <td>ham</td>\n      <td>Ië█≈m going to try for 2 months ha ha only joking</td>\n      <td>NaN</td>\n      <td>NaN</td>\n      <td>NaN</td>\n    </tr>\n    <tr>\n      <th>22</th>\n      <td>ham</td>\n      <td>So ╠_ pay first lar... Then when is da stock c...</td>\n      <td>NaN</td>\n      <td>NaN</td>\n      <td>NaN</td>\n    </tr>\n    <tr>\n      <th>23</th>\n      <td>ham</td>\n      <td>Aft i finish my lunch then i go str down lor. ...</td>\n      <td>NaN</td>\n      <td>NaN</td>\n      <td>NaN</td>\n    </tr>\n    <tr>\n      <th>24</th>\n      <td>ham</td>\n      <td>Ffffffffff. Alright no way I can meet up with ...</td>\n      <td>NaN</td>\n      <td>NaN</td>\n      <td>NaN</td>\n    </tr>\n    <tr>\n      <th>25</th>\n      <td>ham</td>\n      <td>Just forced myself to eat a slice. I'm really ...</td>\n      <td>NaN</td>\n      <td>NaN</td>\n      <td>NaN</td>\n    </tr>\n    <tr>\n      <th>26</th>\n      <td>ham</td>\n      <td>Lol your always so convincing.</td>\n      <td>NaN</td>\n      <td>NaN</td>\n      <td>NaN</td>\n    </tr>\n    <tr>\n      <th>27</th>\n      <td>ham</td>\n      <td>Did you catch the bus ? Are you frying an egg ...</td>\n      <td>NaN</td>\n      <td>NaN</td>\n      <td>NaN</td>\n    </tr>\n    <tr>\n      <th>28</th>\n      <td>ham</td>\n      <td>I'm back &amp;amp; we're packing the car now, I'll...</td>\n      <td>NaN</td>\n      <td>NaN</td>\n      <td>NaN</td>\n    </tr>\n    <tr>\n      <th>29</th>\n      <td>ham</td>\n      <td>Ahhh. Work. I vaguely remember that! What does...</td>\n      <td>NaN</td>\n      <td>NaN</td>\n      <td>NaN</td>\n    </tr>\n    <tr>\n      <th>...</th>\n      <td>...</td>\n      <td>...</td>\n      <td>...</td>\n      <td>...</td>\n      <td>...</td>\n    </tr>\n    <tr>\n      <th>5542</th>\n      <td>ham</td>\n      <td>Armand says get your ass over to epsilon</td>\n      <td>NaN</td>\n      <td>NaN</td>\n      <td>NaN</td>\n    </tr>\n    <tr>\n      <th>5543</th>\n      <td>ham</td>\n      <td>U still havent got urself a jacket ah?</td>\n      <td>NaN</td>\n      <td>NaN</td>\n      <td>NaN</td>\n    </tr>\n    <tr>\n      <th>5544</th>\n      <td>ham</td>\n      <td>I'm taking derek &amp;amp; taylor to walmart, if I...</td>\n      <td>NaN</td>\n      <td>NaN</td>\n      <td>NaN</td>\n    </tr>\n    <tr>\n      <th>5545</th>\n      <td>ham</td>\n      <td>Hi its in durban are you still on this number</td>\n      <td>NaN</td>\n      <td>NaN</td>\n      <td>NaN</td>\n    </tr>\n    <tr>\n      <th>5546</th>\n      <td>ham</td>\n      <td>Ic. There are a lotta childporn cars then.</td>\n      <td>NaN</td>\n      <td>NaN</td>\n      <td>NaN</td>\n    </tr>\n    <tr>\n      <th>5547</th>\n      <td>spam</td>\n      <td>Had your contract mobile 11 Mnths? Latest Moto...</td>\n      <td>NaN</td>\n      <td>NaN</td>\n      <td>NaN</td>\n    </tr>\n    <tr>\n      <th>5548</th>\n      <td>ham</td>\n      <td>No, I was trying it all weekend ;V</td>\n      <td>NaN</td>\n      <td>NaN</td>\n      <td>NaN</td>\n    </tr>\n    <tr>\n      <th>5549</th>\n      <td>ham</td>\n      <td>You know, wot people wear. T shirts, jumpers, ...</td>\n      <td>NaN</td>\n      <td>NaN</td>\n      <td>NaN</td>\n    </tr>\n    <tr>\n      <th>5550</th>\n      <td>ham</td>\n      <td>Cool, what time you think you can get here?</td>\n      <td>NaN</td>\n      <td>NaN</td>\n      <td>NaN</td>\n    </tr>\n    <tr>\n      <th>5551</th>\n      <td>ham</td>\n      <td>Wen did you get so spiritual and deep. That's ...</td>\n      <td>NaN</td>\n      <td>NaN</td>\n      <td>NaN</td>\n    </tr>\n    <tr>\n      <th>5552</th>\n      <td>ham</td>\n      <td>Have a safe trip to Nigeria. Wish you happines...</td>\n      <td>NaN</td>\n      <td>NaN</td>\n      <td>NaN</td>\n    </tr>\n    <tr>\n      <th>5553</th>\n      <td>ham</td>\n      <td>Hahaha..use your brain dear</td>\n      <td>NaN</td>\n      <td>NaN</td>\n      <td>NaN</td>\n    </tr>\n    <tr>\n      <th>5554</th>\n      <td>ham</td>\n      <td>Well keep in mind I've only got enough gas for...</td>\n      <td>NaN</td>\n      <td>NaN</td>\n      <td>NaN</td>\n    </tr>\n    <tr>\n      <th>5555</th>\n      <td>ham</td>\n      <td>Yeh. Indians was nice. Tho it did kane me off ...</td>\n      <td>NaN</td>\n      <td>NaN</td>\n      <td>NaN</td>\n    </tr>\n    <tr>\n      <th>5556</th>\n      <td>ham</td>\n      <td>Yes i have. So that's why u texted. Pshew...mi...</td>\n      <td>NaN</td>\n      <td>NaN</td>\n      <td>NaN</td>\n    </tr>\n    <tr>\n      <th>5557</th>\n      <td>ham</td>\n      <td>No. I meant the calculation is the same. That ...</td>\n      <td>NaN</td>\n      <td>NaN</td>\n      <td>NaN</td>\n    </tr>\n    <tr>\n      <th>5558</th>\n      <td>ham</td>\n      <td>Sorry, I'll call later</td>\n      <td>NaN</td>\n      <td>NaN</td>\n      <td>NaN</td>\n    </tr>\n    <tr>\n      <th>5559</th>\n      <td>ham</td>\n      <td>if you aren't here in the next  &amp;lt;#&amp;gt;  hou...</td>\n      <td>NaN</td>\n      <td>NaN</td>\n      <td>NaN</td>\n    </tr>\n    <tr>\n      <th>5560</th>\n      <td>ham</td>\n      <td>Anything lor. Juz both of us lor.</td>\n      <td>NaN</td>\n      <td>NaN</td>\n      <td>NaN</td>\n    </tr>\n    <tr>\n      <th>5561</th>\n      <td>ham</td>\n      <td>Get me out of this dump heap. My mom decided t...</td>\n      <td>NaN</td>\n      <td>NaN</td>\n      <td>NaN</td>\n    </tr>\n    <tr>\n      <th>5562</th>\n      <td>ham</td>\n      <td>Ok lor... Sony ericsson salesman... I ask shuh...</td>\n      <td>NaN</td>\n      <td>NaN</td>\n      <td>NaN</td>\n    </tr>\n    <tr>\n      <th>5563</th>\n      <td>ham</td>\n      <td>Ard 6 like dat lor.</td>\n      <td>NaN</td>\n      <td>NaN</td>\n      <td>NaN</td>\n    </tr>\n    <tr>\n      <th>5564</th>\n      <td>ham</td>\n      <td>Why don't you wait 'til at least wednesday to ...</td>\n      <td>NaN</td>\n      <td>NaN</td>\n      <td>NaN</td>\n    </tr>\n    <tr>\n      <th>5565</th>\n      <td>ham</td>\n      <td>Huh y lei...</td>\n      <td>NaN</td>\n      <td>NaN</td>\n      <td>NaN</td>\n    </tr>\n    <tr>\n      <th>5566</th>\n      <td>spam</td>\n      <td>REMINDER FROM O2: To get 2.50 pounds free call...</td>\n      <td>NaN</td>\n      <td>NaN</td>\n      <td>NaN</td>\n    </tr>\n    <tr>\n      <th>5567</th>\n      <td>spam</td>\n      <td>This is the 2nd time we have tried 2 contact u...</td>\n      <td>NaN</td>\n      <td>NaN</td>\n      <td>NaN</td>\n    </tr>\n    <tr>\n      <th>5568</th>\n      <td>ham</td>\n      <td>Will ╠_ b going to esplanade fr home?</td>\n      <td>NaN</td>\n      <td>NaN</td>\n      <td>NaN</td>\n    </tr>\n    <tr>\n      <th>5569</th>\n      <td>ham</td>\n      <td>Pity, * was in mood for that. So...any other s...</td>\n      <td>NaN</td>\n      <td>NaN</td>\n      <td>NaN</td>\n    </tr>\n    <tr>\n      <th>5570</th>\n      <td>ham</td>\n      <td>The guy did some bitching but I acted like i'd...</td>\n      <td>NaN</td>\n      <td>NaN</td>\n      <td>NaN</td>\n    </tr>\n    <tr>\n      <th>5571</th>\n      <td>ham</td>\n      <td>Rofl. Its true to its name</td>\n      <td>NaN</td>\n      <td>NaN</td>\n      <td>NaN</td>\n    </tr>\n  </tbody>\n</table>\n<p>5572 rows × 5 columns</p>\n</div>"
          },
          "metadata": {}
        }
      ]
    },
    {
      "metadata": {
        "trusted": true,
        "_uuid": "1e52c78b51dbdebbf84094f08beae323586568ff"
      },
      "cell_type": "code",
      "source": "data.head(2)",
      "execution_count": 11,
      "outputs": [
        {
          "output_type": "execute_result",
          "execution_count": 11,
          "data": {
            "text/plain": "    v1    ...     Unnamed: 4\n0  ham    ...            NaN\n1  ham    ...            NaN\n\n[2 rows x 5 columns]",
            "text/html": "<div>\n<style scoped>\n    .dataframe tbody tr th:only-of-type {\n        vertical-align: middle;\n    }\n\n    .dataframe tbody tr th {\n        vertical-align: top;\n    }\n\n    .dataframe thead th {\n        text-align: right;\n    }\n</style>\n<table border=\"1\" class=\"dataframe\">\n  <thead>\n    <tr style=\"text-align: right;\">\n      <th></th>\n      <th>v1</th>\n      <th>v2</th>\n      <th>Unnamed: 2</th>\n      <th>Unnamed: 3</th>\n      <th>Unnamed: 4</th>\n    </tr>\n  </thead>\n  <tbody>\n    <tr>\n      <th>0</th>\n      <td>ham</td>\n      <td>Go until jurong point, crazy.. Available only ...</td>\n      <td>NaN</td>\n      <td>NaN</td>\n      <td>NaN</td>\n    </tr>\n    <tr>\n      <th>1</th>\n      <td>ham</td>\n      <td>Ok lar... Joking wif u oni...</td>\n      <td>NaN</td>\n      <td>NaN</td>\n      <td>NaN</td>\n    </tr>\n  </tbody>\n</table>\n</div>"
          },
          "metadata": {}
        }
      ]
    },
    {
      "metadata": {
        "_cell_guid": "79c7e3d0-c299-4dcb-8224-4455121ee9b0",
        "_uuid": "d629ff2d2480ee46fbb7e2d37f6b5fab8052498a",
        "trusted": true
      },
      "cell_type": "code",
      "source": "import re \nimport nltk\nfrom nltk.stem.porter import PorterStemmer\nfrom nltk.corpus import stopwords",
      "execution_count": 12,
      "outputs": []
    },
    {
      "metadata": {
        "trusted": true,
        "_uuid": "39a2ba26205cd0b2934fb61b4e454abaadafa693"
      },
      "cell_type": "code",
      "source": "orpus = []\nfor i in range(0, 5572):\n    review = re.sub('[^a-zA-Z]', ' ', data['v2'][i])\n    review = review.lower()\n    review = review.split()\n    ps = PorterStemmer()\n    review = [ps.stem(word) for word in review if not word in set(stopwords.words(\"english\"))]\n    review = \" \".join(review)\n    orpus.append(review)",
      "execution_count": 13,
      "outputs": []
    },
    {
      "metadata": {
        "trusted": true,
        "_uuid": "c595c5ea59c76f35ff773fc7e712050105a68b29"
      },
      "cell_type": "code",
      "source": "from sklearn.feature_extraction.text import CountVectorizer\ncv = CountVectorizer(max_features=3000)\nx = cv.fit_transform(orpus).toarray()",
      "execution_count": 14,
      "outputs": []
    },
    {
      "metadata": {
        "trusted": true,
        "_uuid": "2a765a4f000ea4e011e9cec681555ad98746655a"
      },
      "cell_type": "code",
      "source": "from sklearn.preprocessing import LabelEncoder\nle = LabelEncoder()\ny = le.fit_transform(y)",
      "execution_count": 16,
      "outputs": []
    },
    {
      "metadata": {
        "trusted": true,
        "_uuid": "0bc5d10c83addb9b9723aa4ecd861205faacd522"
      },
      "cell_type": "code",
      "source": "from sklearn.model_selection import train_test_split\nX_train, X_test, y_train, y_test = train_test_split(x, y, test_size=0.2)",
      "execution_count": 17,
      "outputs": []
    },
    {
      "metadata": {
        "trusted": true,
        "_uuid": "6b17abfcd8b02038a90a8349eeb1180a1f04cd95"
      },
      "cell_type": "code",
      "source": "from sklearn.naive_bayes import GaussianNB\nclf = GaussianNB()\nclf.fit(X_train, y_train)",
      "execution_count": 18,
      "outputs": [
        {
          "output_type": "execute_result",
          "execution_count": 18,
          "data": {
            "text/plain": "GaussianNB(priors=None, var_smoothing=1e-09)"
          },
          "metadata": {}
        }
      ]
    },
    {
      "metadata": {
        "trusted": true,
        "_uuid": "7307a1fff22f6eca9638286359faad573e4c8435"
      },
      "cell_type": "code",
      "source": "pred = clf.predict(X_test)",
      "execution_count": 20,
      "outputs": []
    },
    {
      "metadata": {
        "_kg_hide-input": true,
        "trusted": true,
        "_uuid": "40c722227b91495a58d96417b324ceef7e3829df"
      },
      "cell_type": "code",
      "source": "from sklearn.metrics import accuracy_score, precision_score, recall_score, f1_score\nprint('Accuracy score: {}'.format(accuracy_score(y_test, pred)))\nprint('Precision score: {}'.format(precision_score(y_test, pred)))\nprint('Recall score: {}'.format(recall_score(y_test, pred)))\nprint('F1 score: {}'.format(f1_score(y_test, pred)))",
      "execution_count": 21,
      "outputs": [
        {
          "output_type": "stream",
          "text": "Accuracy score: 0.8556053811659193\nPrecision score: 0.47368421052631576\nRecall score: 0.8571428571428571\nF1 score: 0.6101694915254237\n",
          "name": "stdout"
        }
      ]
    },
    {
      "metadata": {
        "trusted": true,
        "_uuid": "c04127b2ce6a52ca96d0c729f0798cf9820b334b"
      },
      "cell_type": "code",
      "source": "from sklearn.ensemble import RandomForestClassifier\nclfRF = RandomForestClassifier(n_estimators = 15, criterion = \"entropy\")\nclfRF.fit(X_train, y_train)\npredRF = clfRF.predict(X_test)",
      "execution_count": 23,
      "outputs": []
    },
    {
      "metadata": {
        "trusted": true,
        "_uuid": "b83b4bd1995cbb7eba491d72ca485bd2349f2cac"
      },
      "cell_type": "code",
      "source": "print('Accuracy score: {}'.format(accuracy_score(y_test, predRF)))\nprint('Precision score: {}'.format(precision_score(y_test, predRF)))\nprint('Recall score: {}'.format(recall_score(y_test, predRF)))\nprint('F1 score: {}'.format(f1_score(y_test, predRF)))",
      "execution_count": 25,
      "outputs": [
        {
          "output_type": "stream",
          "text": "Accuracy score: 0.9739910313901345\nPrecision score: 0.9916666666666667\nRecall score: 0.8095238095238095\nF1 score: 0.8913857677902622\n",
          "name": "stdout"
        }
      ]
    },
    {
      "metadata": {
        "trusted": true,
        "_uuid": "d3417d61b3fc4370e2bc15dbb47cc6fe0723c0b9"
      },
      "cell_type": "code",
      "source": "",
      "execution_count": null,
      "outputs": []
    }
  ],
  "metadata": {
    "kernelspec": {
      "display_name": "Python 3",
      "language": "python",
      "name": "python3"
    },
    "language_info": {
      "name": "python",
      "version": "3.6.6",
      "mimetype": "text/x-python",
      "codemirror_mode": {
        "name": "ipython",
        "version": 3
      },
      "pygments_lexer": "ipython3",
      "nbconvert_exporter": "python",
      "file_extension": ".py"
    }
  },
  "nbformat": 4,
  "nbformat_minor": 1
}